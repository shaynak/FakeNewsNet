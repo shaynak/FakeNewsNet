{
 "cells": [
  {
   "cell_type": "code",
   "execution_count": 1,
   "metadata": {},
   "outputs": [],
   "source": [
    "import numpy as np\n",
    "import networkx as nx\n",
    "import matplotlib\n",
    "import scipy\n",
    "import pandas as pd\n",
    "import matplotlib.pyplot as plt "
   ]
  },
  {
   "cell_type": "code",
   "execution_count": 2,
   "metadata": {},
   "outputs": [],
   "source": [
    "politifact_users = pd.read_table('data/politifact/politifactuseruser.txt', delim_whitespace=True, names=['from', 'to'])\n",
    "buzzfeed_users = pd.read_table('data/buzzfeed/buzzfeeduseruser.txt', delim_whitespace=True, names=['from', 'to'])"
   ]
  },
  {
   "cell_type": "code",
   "execution_count": 15,
   "metadata": {},
   "outputs": [],
   "source": [
    "politifact_news_spread = pd.read_table('data/politifact/politifactnewsuser.txt', delim_whitespace=True, names=['news', 'user', 'times'])\n",
    "buzzfeed_news_spread = pd.read_table('data/buzzfeed/buzzfeednewsuser.txt', delim_whitespace=True, names=['news', 'user', 'times'])"
   ]
  },
  {
   "cell_type": "code",
   "execution_count": 4,
   "metadata": {},
   "outputs": [],
   "source": [
    "politifact_user_graph = nx.convert_matrix.from_pandas_edgelist(politifact_users, source='from', target='to')\n",
    "buzzfeed_user_graph = nx.convert_matrix.from_pandas_edgelist(buzzfeed_users, source='from', target='to')"
   ]
  },
  {
   "cell_type": "code",
   "execution_count": 5,
   "metadata": {},
   "outputs": [
    {
     "data": {
      "text/plain": [
       "[28,\n",
       " 36,\n",
       " 42,\n",
       " 74,\n",
       " 95,\n",
       " 96,\n",
       " 162,\n",
       " 166,\n",
       " 167,\n",
       " 170,\n",
       " 172,\n",
       " 175,\n",
       " 247,\n",
       " 258,\n",
       " 279,\n",
       " 356,\n",
       " 357,\n",
       " 363,\n",
       " 367,\n",
       " 390,\n",
       " 404,\n",
       " 434,\n",
       " 447,\n",
       " 510,\n",
       " 536,\n",
       " 549,\n",
       " 557,\n",
       " 569,\n",
       " 576,\n",
       " 606,\n",
       " 609,\n",
       " 613,\n",
       " 633,\n",
       " 666,\n",
       " 673,\n",
       " 691,\n",
       " 718,\n",
       " 726,\n",
       " 751,\n",
       " 762,\n",
       " 764,\n",
       " 779,\n",
       " 784,\n",
       " 832,\n",
       " 838,\n",
       " 839,\n",
       " 866,\n",
       " 954,\n",
       " 966,\n",
       " 975,\n",
       " 1026,\n",
       " 1029,\n",
       " 1030,\n",
       " 1041,\n",
       " 1044,\n",
       " 1069,\n",
       " 1077,\n",
       " 1115,\n",
       " 1154,\n",
       " 1164,\n",
       " 1213,\n",
       " 1223,\n",
       " 1241,\n",
       " 1244,\n",
       " 1298,\n",
       " 1332,\n",
       " 1347,\n",
       " 1358,\n",
       " 1383,\n",
       " 1470,\n",
       " 1479,\n",
       " 1484,\n",
       " 1516,\n",
       " 1523,\n",
       " 1528,\n",
       " 1529,\n",
       " 1534,\n",
       " 1535,\n",
       " 1540,\n",
       " 1570,\n",
       " 1592,\n",
       " 1669,\n",
       " 1674,\n",
       " 1687,\n",
       " 1691,\n",
       " 1697,\n",
       " 1703,\n",
       " 1704,\n",
       " 1743,\n",
       " 1750,\n",
       " 1759,\n",
       " 1768,\n",
       " 1776,\n",
       " 1793,\n",
       " 1795,\n",
       " 1862,\n",
       " 1865,\n",
       " 1868,\n",
       " 1888,\n",
       " 1927,\n",
       " 1951,\n",
       " 1954,\n",
       " 1985,\n",
       " 2023,\n",
       " 2041,\n",
       " 2042,\n",
       " 2053,\n",
       " 2093,\n",
       " 2108,\n",
       " 2123,\n",
       " 2133,\n",
       " 2142,\n",
       " 2166,\n",
       " 2212,\n",
       " 2229,\n",
       " 2238,\n",
       " 2256,\n",
       " 2266,\n",
       " 2389,\n",
       " 2451,\n",
       " 2484,\n",
       " 2530,\n",
       " 2534,\n",
       " 2552,\n",
       " 2576,\n",
       " 2625,\n",
       " 2693,\n",
       " 2757,\n",
       " 2885,\n",
       " 2991,\n",
       " 3010,\n",
       " 3043,\n",
       " 3046,\n",
       " 3055,\n",
       " 3101,\n",
       " 3108,\n",
       " 3142,\n",
       " 3152,\n",
       " 3169,\n",
       " 3197,\n",
       " 3205,\n",
       " 3212,\n",
       " 3223,\n",
       " 3225,\n",
       " 3258,\n",
       " 3293,\n",
       " 3328,\n",
       " 3336,\n",
       " 3354,\n",
       " 3361,\n",
       " 3392,\n",
       " 3396,\n",
       " 3414,\n",
       " 3415,\n",
       " 3455,\n",
       " 3492,\n",
       " 3498,\n",
       " 3544,\n",
       " 3566,\n",
       " 3612,\n",
       " 3615,\n",
       " 3620,\n",
       " 3623,\n",
       " 3626,\n",
       " 3645,\n",
       " 3657,\n",
       " 3665,\n",
       " 3699,\n",
       " 3721,\n",
       " 3766,\n",
       " 3859,\n",
       " 3865,\n",
       " 3868,\n",
       " 3913,\n",
       " 3932,\n",
       " 3975,\n",
       " 3993,\n",
       " 4006,\n",
       " 4030,\n",
       " 4033,\n",
       " 4037,\n",
       " 4039,\n",
       " 4059,\n",
       " 4106,\n",
       " 4189,\n",
       " 4224,\n",
       " 4227,\n",
       " 4230,\n",
       " 4241,\n",
       " 4249,\n",
       " 4266,\n",
       " 4268,\n",
       " 4286,\n",
       " 4292,\n",
       " 4307,\n",
       " 4310,\n",
       " 4364,\n",
       " 4400,\n",
       " 4401,\n",
       " 4404,\n",
       " 4472,\n",
       " 4479,\n",
       " 4480,\n",
       " 4489,\n",
       " 4538,\n",
       " 4568,\n",
       " 4583,\n",
       " 4595,\n",
       " 4600,\n",
       " 4628,\n",
       " 4634,\n",
       " 4639,\n",
       " 4647,\n",
       " 4675,\n",
       " 4679,\n",
       " 4705,\n",
       " 4709,\n",
       " 4747,\n",
       " 4753,\n",
       " 4767,\n",
       " 4808,\n",
       " 4895,\n",
       " 4897,\n",
       " 4901,\n",
       " 4906,\n",
       " 4922,\n",
       " 4990,\n",
       " 4998,\n",
       " 5003,\n",
       " 5007,\n",
       " 5025,\n",
       " 5090,\n",
       " 5194,\n",
       " 5207,\n",
       " 5229,\n",
       " 5240,\n",
       " 5291,\n",
       " 5315,\n",
       " 5341,\n",
       " 5355,\n",
       " 5397,\n",
       " 5430,\n",
       " 5455,\n",
       " 5480,\n",
       " 5503,\n",
       " 5507,\n",
       " 5510,\n",
       " 5549,\n",
       " 5591,\n",
       " 5611,\n",
       " 5650,\n",
       " 5657,\n",
       " 5661,\n",
       " 5676,\n",
       " 5690,\n",
       " 5693,\n",
       " 5736,\n",
       " 5751,\n",
       " 5785,\n",
       " 5802,\n",
       " 5835,\n",
       " 5867,\n",
       " 5901,\n",
       " 5917,\n",
       " 5918,\n",
       " 5932,\n",
       " 5941,\n",
       " 5952,\n",
       " 5995,\n",
       " 6008,\n",
       " 6018,\n",
       " 6074,\n",
       " 6088,\n",
       " 6093,\n",
       " 6096,\n",
       " 6119,\n",
       " 6131,\n",
       " 6159,\n",
       " 6175,\n",
       " 6205,\n",
       " 6214,\n",
       " 6234,\n",
       " 6236,\n",
       " 6239,\n",
       " 6265,\n",
       " 6311,\n",
       " 6323,\n",
       " 6353,\n",
       " 6360,\n",
       " 6377,\n",
       " 6406,\n",
       " 6462,\n",
       " 6496,\n",
       " 6518,\n",
       " 6562,\n",
       " 6570,\n",
       " 6574,\n",
       " 6582,\n",
       " 6591,\n",
       " 6671,\n",
       " 6695,\n",
       " 6698,\n",
       " 6716,\n",
       " 6719,\n",
       " 6720,\n",
       " 6729,\n",
       " 6758,\n",
       " 6771,\n",
       " 6799,\n",
       " 6846,\n",
       " 6882,\n",
       " 6916,\n",
       " 6922,\n",
       " 6923,\n",
       " 6931,\n",
       " 6950,\n",
       " 6968,\n",
       " 6977,\n",
       " 6982,\n",
       " 6985,\n",
       " 6989,\n",
       " 7000,\n",
       " 7029,\n",
       " 7067,\n",
       " 7071,\n",
       " 7097,\n",
       " 7106,\n",
       " 7136,\n",
       " 7143,\n",
       " 7152,\n",
       " 7176,\n",
       " 7196,\n",
       " 7212,\n",
       " 7244,\n",
       " 7260,\n",
       " 7291,\n",
       " 7311,\n",
       " 7315,\n",
       " 7320,\n",
       " 7374,\n",
       " 7449,\n",
       " 7494,\n",
       " 7496,\n",
       " 7497,\n",
       " 7498,\n",
       " 7509,\n",
       " 7532,\n",
       " 7538,\n",
       " 7578,\n",
       " 7595,\n",
       " 7600,\n",
       " 7611,\n",
       " 7618,\n",
       " 7624,\n",
       " 7651,\n",
       " 7660,\n",
       " 7724,\n",
       " 7729,\n",
       " 7747,\n",
       " 7748,\n",
       " 7781,\n",
       " 7825,\n",
       " 7829,\n",
       " 7852,\n",
       " 7863,\n",
       " 7869,\n",
       " 7872,\n",
       " 7919,\n",
       " 7941,\n",
       " 7965,\n",
       " 7967,\n",
       " 7979,\n",
       " 8015,\n",
       " 8018,\n",
       " 8063,\n",
       " 8094,\n",
       " 8100,\n",
       " 8132,\n",
       " 8166,\n",
       " 8183,\n",
       " 8218,\n",
       " 8257,\n",
       " 8262,\n",
       " 8333,\n",
       " 8367,\n",
       " 8370,\n",
       " 8374,\n",
       " 8406,\n",
       " 8493,\n",
       " 8500,\n",
       " 8505,\n",
       " 8506,\n",
       " 8520,\n",
       " 8522,\n",
       " 8559,\n",
       " 8594,\n",
       " 8601,\n",
       " 8619,\n",
       " 8641,\n",
       " 8642,\n",
       " 8647,\n",
       " 8648,\n",
       " 8673,\n",
       " 8718,\n",
       " 8731,\n",
       " 8745,\n",
       " 8748,\n",
       " 8767,\n",
       " 8793,\n",
       " 8815,\n",
       " 8853,\n",
       " 8859,\n",
       " 8870,\n",
       " 8899,\n",
       " 8924,\n",
       " 8951,\n",
       " 8979,\n",
       " 9009,\n",
       " 9096,\n",
       " 9129,\n",
       " 9135,\n",
       " 9219,\n",
       " 9227,\n",
       " 9233,\n",
       " 9244,\n",
       " 9245,\n",
       " 9261,\n",
       " 9282,\n",
       " 9290,\n",
       " 9300,\n",
       " 9306,\n",
       " 9318,\n",
       " 9347,\n",
       " 9435,\n",
       " 9436,\n",
       " 9439,\n",
       " 9455,\n",
       " 9508,\n",
       " 9545,\n",
       " 9548,\n",
       " 9558,\n",
       " 9560,\n",
       " 9579,\n",
       " 9598,\n",
       " 9630,\n",
       " 9666,\n",
       " 9670,\n",
       " 9676,\n",
       " 9726,\n",
       " 9738,\n",
       " 9747,\n",
       " 9758,\n",
       " 9789,\n",
       " 9791,\n",
       " 9879,\n",
       " 9884,\n",
       " 9889,\n",
       " 9912,\n",
       " 9929,\n",
       " 9966,\n",
       " 9984,\n",
       " 9986,\n",
       " 9997,\n",
       " 10005,\n",
       " 10009,\n",
       " 10026,\n",
       " 10067,\n",
       " 10084,\n",
       " 10113,\n",
       " 10151,\n",
       " 10176,\n",
       " 10204,\n",
       " 10211,\n",
       " 10286,\n",
       " 10290,\n",
       " 10298,\n",
       " 10300,\n",
       " 10318,\n",
       " 10321,\n",
       " 10341,\n",
       " 10346,\n",
       " 10357,\n",
       " 10374,\n",
       " 10390,\n",
       " 10400,\n",
       " 10418,\n",
       " 10423,\n",
       " 10455,\n",
       " 10491,\n",
       " 10503,\n",
       " 10504,\n",
       " 10525,\n",
       " 10543,\n",
       " 10559,\n",
       " 10566,\n",
       " 10598,\n",
       " 10615,\n",
       " 10658,\n",
       " 10682,\n",
       " 10691,\n",
       " 10706,\n",
       " 10721,\n",
       " 10729,\n",
       " 10745,\n",
       " 10747,\n",
       " 10766,\n",
       " 10798,\n",
       " 10800,\n",
       " 10864,\n",
       " 10876,\n",
       " 10891,\n",
       " 10918,\n",
       " 10936,\n",
       " 10964,\n",
       " 10980,\n",
       " 11022,\n",
       " 11042,\n",
       " 11084,\n",
       " 11089,\n",
       " 11121,\n",
       " 11139,\n",
       " 11144,\n",
       " 11149,\n",
       " 11154,\n",
       " 11183,\n",
       " 11184,\n",
       " 11223,\n",
       " 11242,\n",
       " 11263,\n",
       " 11335,\n",
       " 11342,\n",
       " 11345,\n",
       " 11347,\n",
       " 11348,\n",
       " 11370,\n",
       " 11400,\n",
       " 11432,\n",
       " 11438,\n",
       " 11455,\n",
       " 11466,\n",
       " 11468,\n",
       " 11484,\n",
       " 11489,\n",
       " 11522,\n",
       " 11533,\n",
       " 11541,\n",
       " 11550,\n",
       " 11577,\n",
       " 11583,\n",
       " 11609,\n",
       " 11613,\n",
       " 11626,\n",
       " 11650,\n",
       " 11692,\n",
       " 11748,\n",
       " 11765,\n",
       " 11771,\n",
       " 11775,\n",
       " 11796,\n",
       " 11801,\n",
       " 11821,\n",
       " 11942,\n",
       " 11950,\n",
       " 11970,\n",
       " 11982,\n",
       " 12046,\n",
       " 12074,\n",
       " 12088,\n",
       " 12109,\n",
       " 12118,\n",
       " 12193,\n",
       " 12210,\n",
       " 12211,\n",
       " 12282,\n",
       " 12287,\n",
       " 12305,\n",
       " 12309,\n",
       " 12321,\n",
       " 12340,\n",
       " 12387,\n",
       " 12399,\n",
       " 12403,\n",
       " 12406,\n",
       " 12407,\n",
       " 12435,\n",
       " 12523,\n",
       " 12543,\n",
       " 12545,\n",
       " 12546,\n",
       " 12559,\n",
       " 12565,\n",
       " 12573,\n",
       " 12595,\n",
       " 12598,\n",
       " 12638,\n",
       " 12698,\n",
       " 12701,\n",
       " 12719,\n",
       " 12776,\n",
       " 12783,\n",
       " 12795,\n",
       " 12802,\n",
       " 12861,\n",
       " 12880,\n",
       " 12924,\n",
       " 12933,\n",
       " 12966,\n",
       " 12980,\n",
       " 12981,\n",
       " 12996,\n",
       " 13021,\n",
       " 13043,\n",
       " 13045,\n",
       " 13067,\n",
       " 13095,\n",
       " 13102,\n",
       " 13105,\n",
       " 13117,\n",
       " 13152,\n",
       " 13201,\n",
       " 13217,\n",
       " 13338,\n",
       " 13352,\n",
       " 13364,\n",
       " 13407,\n",
       " 13426,\n",
       " 13431,\n",
       " 13447,\n",
       " 13467,\n",
       " 13486,\n",
       " 13503,\n",
       " 13515,\n",
       " 13518,\n",
       " 13549,\n",
       " 13551,\n",
       " 13557,\n",
       " 13567,\n",
       " 13601,\n",
       " 13632,\n",
       " 13640,\n",
       " 13665,\n",
       " 13696,\n",
       " 13759,\n",
       " 13794,\n",
       " 13812,\n",
       " 13853,\n",
       " 13887,\n",
       " 13919,\n",
       " 13926,\n",
       " 14011,\n",
       " 14060,\n",
       " 14197,\n",
       " 14226,\n",
       " 14268,\n",
       " 14270,\n",
       " 14300,\n",
       " 14322,\n",
       " 14329,\n",
       " 14411,\n",
       " 14417,\n",
       " 14438,\n",
       " 14446,\n",
       " 14454,\n",
       " 14457,\n",
       " 14464,\n",
       " 14480,\n",
       " 14497,\n",
       " 14518,\n",
       " 14544,\n",
       " 14603,\n",
       " 14649,\n",
       " 14661,\n",
       " 14684,\n",
       " 14685,\n",
       " 14718,\n",
       " 14723,\n",
       " 14728,\n",
       " 14729,\n",
       " 14792,\n",
       " 14794,\n",
       " 14799,\n",
       " 14823,\n",
       " 14835,\n",
       " 14854,\n",
       " 14862,\n",
       " 14880,\n",
       " 14886,\n",
       " 14922,\n",
       " 14928,\n",
       " 14930,\n",
       " 14948,\n",
       " 14968,\n",
       " 14989,\n",
       " 14992,\n",
       " 15003,\n",
       " 15007,\n",
       " 15016,\n",
       " 15060,\n",
       " 15130,\n",
       " 15146,\n",
       " 15169,\n",
       " 15205,\n",
       " 15206,\n",
       " 15229,\n",
       " 15234,\n",
       " 15239,\n",
       " 15245,\n",
       " 15248]"
      ]
     },
     "execution_count": 5,
     "metadata": {},
     "output_type": "execute_result"
    }
   ],
   "source": [
    "users_93 = buzzfeed_news_spread.loc[buzzfeed_news_spread['news'] == 93]['user'].values\n",
    "list(users_93)"
   ]
  },
  {
   "cell_type": "code",
   "execution_count": 6,
   "metadata": {},
   "outputs": [],
   "source": [
    "graph_93 = buzzfeed_user_graph.subgraph(list(users_93))"
   ]
  },
  {
   "cell_type": "code",
   "execution_count": 7,
   "metadata": {},
   "outputs": [
    {
     "data": {
      "text/plain": [
       "<networkx.classes.graphviews.SubGraph at 0x10a0611d0>"
      ]
     },
     "execution_count": 7,
     "metadata": {},
     "output_type": "execute_result"
    }
   ],
   "source": [
    "graph_93"
   ]
  },
  {
   "cell_type": "code",
   "execution_count": 8,
   "metadata": {},
   "outputs": [
    {
     "data": {
      "text/plain": [
       "0.0648022665602941"
      ]
     },
     "execution_count": 8,
     "metadata": {},
     "output_type": "execute_result"
    }
   ],
   "source": [
    "nx.average_clustering(graph_93)"
   ]
  },
  {
   "cell_type": "code",
   "execution_count": 11,
   "metadata": {},
   "outputs": [
    {
     "data": {
      "image/png": "[encoded data removed]",
      "text/plain": [
       "<Figure size 432x288 with 1 Axes>"
      ]
     },
     "metadata": {},
     "output_type": "display_data"
    }
   ],
   "source": [
    "nx.draw_networkx(graph_93, node_size=30, with_labels=False)"
   ]
  },
  {
   "cell_type": "code",
   "execution_count": 12,
   "metadata": {},
   "outputs": [],
   "source": [
    "buzzfeed_real = range(1, 92)\n",
    "buzzfeed_fake = range(92, 183)\n",
    "politifact_real = range(1, 121)\n",
    "politifact_fake = range(121, 241)"
   ]
  },
  {
   "cell_type": "code",
   "execution_count": 56,
   "metadata": {},
   "outputs": [],
   "source": [
    "def calculate_ccs(source, graph, real, fake):\n",
    "    real_ccs = []\n",
    "    fake_ccs = []\n",
    "    for news in real:\n",
    "        users = source.loc[source['news'] == news]['user'].values\n",
    "        subg = graph.subgraph(list(users))\n",
    "        real_ccs.append(nx.average_clustering(subg))\n",
    "    for news in fake:\n",
    "        users = source.loc[source['news'] == news]['user'].values\n",
    "        subg = graph.subgraph(list(users))\n",
    "        fake_ccs.append(nx.average_clustering(subg))\n",
    "\n",
    "    average_real = np.average(real_ccs)\n",
    "    average_fake = np.average(fake_ccs)\n",
    "    return (average_real, average_fake)"
   ]
  },
  {
   "cell_type": "code",
   "execution_count": 57,
   "metadata": {},
   "outputs": [
    {
     "name": "stdout",
     "output_type": "stream",
     "text": [
      "avg real cc, buzzfeed: 0.008337101071855108\n",
      "avg fake cc, buzzfeed: 0.011960459531932203\n"
     ]
    }
   ],
   "source": [
    "bf_real_cc, bf_fake_cc = calculate_ccs(buzzfeed_news_spread, buzzfeed_user_graph, buzzfeed_real, buzzfeed_fake)\n",
    "print('avg real cc, buzzfeed: ' + str(bf_real_cc))\n",
    "print('avg fake cc, buzzfeed: ' + str(bf_fake_cc))"
   ]
  },
  {
   "cell_type": "code",
   "execution_count": 58,
   "metadata": {},
   "outputs": [
    {
     "name": "stdout",
     "output_type": "stream",
     "text": [
      "avg real cc, politifact: 0.0004417234703421145\n",
      "avg fake cc, politifact: 0.0036281067393171816\n"
     ]
    }
   ],
   "source": [
    "pf_real_cc, pf_fake_cc = calculate_ccs(politifact_news_spread, politifact_user_graph, politifact_real, politifact_fake)\n",
    "print('avg real cc, politifact: ' + str(pf_real_cc))\n",
    "print('avg fake cc, politifact: ' + str(pf_fake_cc))"
   ]
  },
  {
   "cell_type": "code",
   "execution_count": 59,
   "metadata": {},
   "outputs": [],
   "source": [
    "def calculate_ccs_and_apls(source, graph, real, fake):\n",
    "    real_ccs = []\n",
    "    fake_ccs = []\n",
    "    real_apls = []\n",
    "    fake_apls = []\n",
    "    for news in real:\n",
    "        users = source.loc[source['news'] == news]['user'].values\n",
    "        subg = graph.subgraph(list(users))\n",
    "        subg = max(nx.connected_component_subgraphs(subg), key=len)\n",
    "        real_ccs.append(nx.average_clustering(subg))\n",
    "        real_apls.append(nx.average_shortest_path_length(subg))\n",
    "    for news in fake:\n",
    "        users = source.loc[source['news'] == news]['user'].values\n",
    "        subg = graph.subgraph(list(users))\n",
    "        subg = max(nx.connected_component_subgraphs(subg), key=len)\n",
    "        fake_ccs.append(nx.average_clustering(subg))\n",
    "        fake_apls.append(nx.average_shortest_path_length(subg))\n",
    "\n",
    "    average_real = np.average(real_ccs)\n",
    "    average_fake = np.average(fake_ccs)\n",
    "    average_real_apl = np.average(real_apls)\n",
    "    average_fake_apl = np.average(fake_apls)\n",
    "    return (average_real, average_fake, average_real_apl, average_fake_apl)"
   ]
  },
  {
   "cell_type": "code",
   "execution_count": 60,
   "metadata": {},
   "outputs": [],
   "source": [
    "bf_real_cc_giant, bf_fake_cc_giant, bf_real_apl_giant, bf_fake_apl_giant = calculate_ccs_and_apls(buzzfeed_news_spread, buzzfeed_user_graph, buzzfeed_real, buzzfeed_fake)\n",
    "pf_real_cc_giant, pf_fake_cc_giant, pf_real_apl_giant, pf_fake_apl_giant = calculate_ccs_and_apls(politifact_news_spread, politifact_user_graph, politifact_real, politifact_fake)"
   ]
  },
  {
   "cell_type": "code",
   "execution_count": 61,
   "metadata": {},
   "outputs": [
    {
     "name": "stdout",
     "output_type": "stream",
     "text": [
      "avg real cc, buzzfeed, giant component: 0.02188646159365328\n",
      "avg fake cc, buzzfeed, giant component: 0.043310325577771584\n",
      "avg real apl, buzzfeed, giant component: 1.596574873272792\n",
      "avg fake apl, buzzfeed, giant component: 1.4690079692315843\n",
      "\n",
      "avg real cc, politifact, giant component: 0.0018112744152661514\n",
      "avg fake cc, politifact, giant component: 0.016920161945706762\n",
      "avg real apl, politifact, giant component: 0.7562923984146104\n",
      "avg fake apl, politifact, giant component: 1.685158131048333\n"
     ]
    }
   ],
   "source": [
    "print('avg real cc, buzzfeed, giant component: ' + str(bf_real_cc_giant))\n",
    "print('avg fake cc, buzzfeed, giant component: ' + str(bf_fake_cc_giant))\n",
    "print('avg real apl, buzzfeed, giant component: ' + str(bf_real_apl_giant))\n",
    "print('avg fake apl, buzzfeed, giant component: ' + str(bf_fake_apl_giant))\n",
    "print()\n",
    "print('avg real cc, politifact, giant component: ' + str(pf_real_cc_giant))\n",
    "print('avg fake cc, politifact, giant component: ' + str(pf_fake_cc_giant))\n",
    "print('avg real apl, politifact, giant component: ' + str(pf_real_apl_giant))\n",
    "print('avg fake apl, politifact, giant component: ' + str(pf_fake_apl_giant))"
   ]
  },
  {
   "cell_type": "code",
   "execution_count": 62,
   "metadata": {},
   "outputs": [],
   "source": [
    "def calculate_ccs_and_apl_ranges(source, graph, real, fake):\n",
    "    real_ccs = []\n",
    "    fake_ccs = []\n",
    "    real_apls = []\n",
    "    fake_apls = []\n",
    "    for news in real:\n",
    "        users = source.loc[source['news'] == news]['user'].values\n",
    "        subg = graph.subgraph(list(users))\n",
    "        subg = max(nx.connected_component_subgraphs(subg), key=len)\n",
    "        real_ccs.append(nx.average_clustering(subg))\n",
    "        real_apls.append(nx.average_shortest_path_length(subg))\n",
    "    for news in fake:\n",
    "        users = source.loc[source['news'] == news]['user'].values\n",
    "        subg = graph.subgraph(list(users))\n",
    "        subg = max(nx.connected_component_subgraphs(subg), key=len)\n",
    "        fake_ccs.append(nx.average_clustering(subg))\n",
    "        fake_apls.append(nx.average_shortest_path_length(subg))\n",
    "\n",
    "    return (real_ccs, fake_ccs, real_apls, fake_apls)"
   ]
  },
  {
   "cell_type": "code",
   "execution_count": 63,
   "metadata": {},
   "outputs": [],
   "source": [
    "def min_nonzero(x):\n",
    "    if x == 0:\n",
    "        return float('inf')\n",
    "    return x"
   ]
  },
  {
   "cell_type": "code",
   "execution_count": 64,
   "metadata": {
    "scrolled": true
   },
   "outputs": [
    {
     "name": "stdout",
     "output_type": "stream",
     "text": [
      "range real cc, buzzfeed, giant component: [0.02426923524558455, 0.25902777777777775]\n",
      "range fake cc, buzzfeed, giant component: [0.02, 1.0]\n",
      "range real apl, buzzfeed, giant component: [1.0, 5.011383161512027]\n",
      "range fake apl, buzzfeed, giant component: [1.0, 4.5096949891067535]\n",
      "\n",
      "range real cc, politifact, giant component: [0.020833333333333332, 0.0879928315412186]\n",
      "range fake cc, politifact, giant component: [0.028194444444444446, 0.35000000000000003]\n",
      "range real apl, politifact, giant component: [1.0, 7.142372881355932]\n",
      "range fake apl, politifact, giant component: [1.0, 6.158641975308642]\n"
     ]
    }
   ],
   "source": [
    "bf_real_ccs, bf_fake_ccs, bf_real_apls, bf_fake_apls = calculate_ccs_and_apl_ranges(buzzfeed_news_spread, buzzfeed_user_graph, buzzfeed_real, buzzfeed_fake)\n",
    "pf_real_ccs, pf_fake_ccs, pf_real_apls, pf_fake_apls = calculate_ccs_and_apl_ranges(politifact_news_spread, politifact_user_graph, politifact_real, politifact_fake)\n",
    "\n",
    "print('range real cc, buzzfeed, giant component: ' + '[' + str(min(bf_real_ccs, key=min_nonzero)) + ', ' + str(max(bf_real_ccs)) + ']')\n",
    "print('range fake cc, buzzfeed, giant component: ' + '[' + str(min(bf_fake_ccs, key=min_nonzero)) + ', ' + str(max(bf_fake_ccs)) + ']')\n",
    "print('range real apl, buzzfeed, giant component: ' + '[' + str(min(bf_real_apls, key=min_nonzero)) + ', ' + str(max(bf_real_apls)) + ']')\n",
    "print('range fake apl, buzzfeed, giant component: ' + '[' + str(min(bf_fake_apls, key=min_nonzero)) + ', ' + str(max(bf_fake_apls)) + ']')\n",
    "print()\n",
    "print('range real cc, politifact, giant component: ' + '[' + str(min(pf_real_ccs, key=min_nonzero)) + ', ' + str(max(pf_real_ccs)) + ']')\n",
    "print('range fake cc, politifact, giant component: ' + '[' + str(min(pf_fake_ccs, key=min_nonzero)) + ', ' + str(max(pf_fake_ccs)) + ']')\n",
    "print('range real apl, politifact, giant component: ' + '[' + str(min(pf_real_apls, key=min_nonzero)) + ', ' + str(max(pf_real_apls)) + ']')\n",
    "print('range fake apl, politifact, giant component: ' + '[' + str(min(pf_fake_apls, key=min_nonzero)) + ', ' + str(max(pf_fake_apls)) + ']')"
   ]
  },
  {
   "cell_type": "code",
   "execution_count": 30,
   "metadata": {},
   "outputs": [
    {
     "data": {
      "text/plain": [
       "(array([115.,   0.,   2.,   0.,   1.,   1.,   0.,   0.,   0.,   1.]),\n",
       " array([0.        , 0.00879928, 0.01759857, 0.02639785, 0.03519713,\n",
       "        0.04399642, 0.0527957 , 0.06159498, 0.07039427, 0.07919355,\n",
       "        0.08799283]),\n",
       " <a list of 10 Patch objects>)"
      ]
     },
     "execution_count": 30,
     "metadata": {},
     "output_type": "execute_result"
    },
    {
     "data": {
      "image/png": "[encoded data removed]",
      "text/plain": [
       "<Figure size 432x288 with 1 Axes>"
      ]
     },
     "metadata": {},
     "output_type": "display_data"
    }
   ],
   "source": [
    "plt.hist(pf_fake_ccs)\n",
    "plt.hist(pf_real_ccs)"
   ]
  },
  {
   "cell_type": "code",
   "execution_count": 31,
   "metadata": {},
   "outputs": [
    {
     "data": {
      "text/plain": [
       "(array([69.,  7.,  4.,  3.,  4.,  2.,  0.,  1.,  0.,  1.]),\n",
       " array([0.        , 0.02590278, 0.05180556, 0.07770833, 0.10361111,\n",
       "        0.12951389, 0.15541667, 0.18131944, 0.20722222, 0.233125  ,\n",
       "        0.25902778]),\n",
       " <a list of 10 Patch objects>)"
      ]
     },
     "execution_count": 31,
     "metadata": {},
     "output_type": "execute_result"
    },
    {
     "data": {
      "image/png": "[encoded data removed]",
      "text/plain": [
       "<Figure size 432x288 with 1 Axes>"
      ]
     },
     "metadata": {},
     "output_type": "display_data"
    }
   ],
   "source": [
    "plt.hist(bf_fake_ccs)\n",
    "plt.hist(bf_real_ccs)"
   ]
  },
  {
   "cell_type": "code",
   "execution_count": 32,
   "metadata": {},
   "outputs": [
    {
     "data": {
      "text/plain": [
       "(array([68., 27., 16.,  2.,  5.,  1.,  0.,  0.,  0.,  1.]),\n",
       " array([0.        , 0.71423729, 1.42847458, 2.14271186, 2.85694915,\n",
       "        3.57118644, 4.28542373, 4.99966102, 5.71389831, 6.42813559,\n",
       "        7.14237288]),\n",
       " <a list of 10 Patch objects>)"
      ]
     },
     "execution_count": 32,
     "metadata": {},
     "output_type": "execute_result"
    },
    {
     "data": {
      "image/png": "[encoded data removed]",
      "text/plain": [
       "<Figure size 432x288 with 1 Axes>"
      ]
     },
     "metadata": {},
     "output_type": "display_data"
    }
   ],
   "source": [
    "plt.hist(pf_fake_apls)\n",
    "plt.hist(pf_real_apls)"
   ]
  },
  {
   "cell_type": "code",
   "execution_count": 33,
   "metadata": {},
   "outputs": [
    {
     "data": {
      "text/plain": [
       "(array([30., 12., 12.,  9.,  3.,  3.,  5., 10.,  6.,  1.]),\n",
       " array([0.        , 0.50113832, 1.00227663, 1.50341495, 2.00455326,\n",
       "        2.50569158, 3.0068299 , 3.50796821, 4.00910653, 4.51024485,\n",
       "        5.01138316]),\n",
       " <a list of 10 Patch objects>)"
      ]
     },
     "execution_count": 33,
     "metadata": {},
     "output_type": "execute_result"
    },
    {
     "data": {
      "image/png": "[encoded data removed]",
      "text/plain": [
       "<Figure size 432x288 with 1 Axes>"
      ]
     },
     "metadata": {},
     "output_type": "display_data"
    }
   ],
   "source": [
    "plt.hist(bf_fake_apls)\n",
    "plt.hist(bf_real_apls)"
   ]
  },
  {
   "cell_type": "code",
   "execution_count": 43,
   "metadata": {},
   "outputs": [],
   "source": [
    "import json\n",
    "def is_trump(s):\n",
    "    words = s.split(\" \")\n",
    "    for word in words:\n",
    "        if word.lower() == \"trump\":\n",
    "            return True\n",
    "    return False"
   ]
  },
  {
   "cell_type": "code",
   "execution_count": 44,
   "metadata": {},
   "outputs": [],
   "source": [
    "politifact_trump_real = []\n",
    "politifact_other_real = []\n",
    "for news in politifact_real:\n",
    "    with open('data/politifact/realnewscontent/PolitiFact_Real_' + str(news) + '-Webpage.json', 'r') as json_file:\n",
    "        data = json.load(json_file)\n",
    "    body = data[\"text\"]\n",
    "    if is_trump(body):\n",
    "        politifact_trump_real.append(news)\n",
    "    else:\n",
    "        politifact_other_real.append(news)\n",
    "\n",
    "politifact_trump_fake = []\n",
    "politifact_other_fake = []\n",
    "for news in politifact_fake:\n",
    "    news_id = news - 120\n",
    "    with open('Data/PolitiFact/FakeNewsContent/PolitiFact_Fake_' + str(news_id) + '-Webpage.json', 'r') as json_file:\n",
    "        data = json.load(json_file)\n",
    "    body = data[\"text\"]\n",
    "    if is_trump(body):\n",
    "        politifact_trump_fake.append(news)\n",
    "    else:\n",
    "        politifact_other_fake.append(news)\n",
    "    "
   ]
  },
  {
   "cell_type": "code",
   "execution_count": 71,
   "metadata": {},
   "outputs": [],
   "source": [
    "buzzfeed_trump_real = []\n",
    "buzzfeed_other_real = []\n",
    "for news in buzzfeed_real:\n",
    "    with open('data/buzzfeed/realnewscontent/Buzzfeed_Real_' + str(news) + '-Webpage.json', 'r') as json_file:\n",
    "        data = json.load(json_file)\n",
    "    body = data[\"text\"]\n",
    "    if is_trump(body):\n",
    "        buzzfeed_trump_real.append(news)\n",
    "    else:\n",
    "        buzzfeed_other_real.append(news)\n",
    "\n",
    "buzzfeed_trump_fake = []\n",
    "buzzfeed_other_fake = []\n",
    "for news in buzzfeed_fake:\n",
    "    news_id = news - 91\n",
    "    with open('Data/buzzfeed/FakeNewsContent/buzzfeed_Fake_' + str(news_id) + '-Webpage.json', 'r') as json_file:\n",
    "        data = json.load(json_file)\n",
    "    body = data[\"text\"]\n",
    "    if is_trump(body):\n",
    "        buzzfeed_trump_fake.append(news)\n",
    "    else:\n",
    "        buzzfeed_other_fake.append(news)"
   ]
  },
  {
   "cell_type": "code",
   "execution_count": 72,
   "metadata": {},
   "outputs": [],
   "source": [
    "bf_trump_real_cc, bf_trump_fake_cc, bf_trump_real_apl, bf_trump_fake_apl = calculate_ccs_and_apls(buzzfeed_news_spread, buzzfeed_user_graph, buzzfeed_trump_real, buzzfeed_trump_fake)\n",
    "bf_other_real_cc, bf_other_fake_cc, bf_other_real_apl, bf_other_fake_apl = calculate_ccs_and_apls(buzzfeed_news_spread, buzzfeed_user_graph, buzzfeed_other_real, buzzfeed_other_fake)"
   ]
  },
  {
   "cell_type": "code",
   "execution_count": 73,
   "metadata": {},
   "outputs": [
    {
     "name": "stdout",
     "output_type": "stream",
     "text": [
      "avg real cc, buzzfeed, trump giant component: 0.024290204389537794\n",
      "avg fake cc, buzzfeed, trump giant component: 0.04430420128219759\n",
      "avg real apl, buzzfeed, trump giant component: 1.5677974836194921\n",
      "avg fake apl, buzzfeed, trump giant component: 1.4599979314443505\n",
      "\n",
      "avg real cc, buzzfeed, other giant component: 0.0183782964320921\n",
      "avg fake cc, buzzfeed, other giant component: 0.0427174874382894\n",
      "avg real apl, buzzfeed, other giant component: 1.638574306820852\n",
      "avg fake apl, buzzfeed, other giant component: 1.4743823777362501\n"
     ]
    }
   ],
   "source": [
    "print('avg real cc, buzzfeed, trump giant component: ' + str(bf_trump_real_cc))\n",
    "print('avg fake cc, buzzfeed, trump giant component: ' + str(bf_trump_fake_cc))\n",
    "print('avg real apl, buzzfeed, trump giant component: ' + str(bf_trump_real_apl))\n",
    "print('avg fake apl, buzzfeed, trump giant component: ' + str(bf_trump_fake_apl))\n",
    "print()\n",
    "print('avg real cc, buzzfeed, other giant component: ' + str(bf_other_real_cc))\n",
    "print('avg fake cc, buzzfeed, other giant component: ' + str(bf_other_fake_cc))\n",
    "print('avg real apl, buzzfeed, other giant component: ' + str(bf_other_real_apl))\n",
    "print('avg fake apl, buzzfeed, other giant component: ' + str(bf_other_fake_apl))"
   ]
  },
  {
   "cell_type": "code",
   "execution_count": 75,
   "metadata": {},
   "outputs": [],
   "source": [
    "politifact_trump_real = []\n",
    "politifact_other_real = []\n",
    "for news in politifact_real:\n",
    "    with open('data/politifact/realnewscontent/politifact_Real_' + str(news) + '-Webpage.json', 'r') as json_file:\n",
    "        data = json.load(json_file)\n",
    "    body = data[\"text\"]\n",
    "    if is_trump(body):\n",
    "        politifact_trump_real.append(news)\n",
    "    else:\n",
    "        politifact_other_real.append(news)\n",
    "\n",
    "politifact_trump_fake = []\n",
    "politifact_other_fake = []\n",
    "for news in politifact_fake:\n",
    "    news_id = news - 120\n",
    "    with open('Data/politifact/FakeNewsContent/politifact_Fake_' + str(news_id) + '-Webpage.json', 'r') as json_file:\n",
    "        data = json.load(json_file)\n",
    "    body = data[\"text\"]\n",
    "    if is_trump(body):\n",
    "        politifact_trump_fake.append(news)\n",
    "    else:\n",
    "        politifact_other_fake.append(news)"
   ]
  },
  {
   "cell_type": "code",
   "execution_count": 76,
   "metadata": {},
   "outputs": [],
   "source": [
    "pf_trump_real_cc, pf_trump_fake_cc, pf_trump_real_apl, pf_trump_fake_apl = calculate_ccs_and_apls(politifact_news_spread, politifact_user_graph, politifact_trump_real, politifact_trump_fake)\n",
    "pf_other_real_cc, pf_other_fake_cc, pf_other_real_apl, pf_other_fake_apl = calculate_ccs_and_apls(politifact_news_spread, politifact_user_graph, politifact_other_real, politifact_other_fake)"
   ]
  },
  {
   "cell_type": "code",
   "execution_count": 77,
   "metadata": {},
   "outputs": [
    {
     "name": "stdout",
     "output_type": "stream",
     "text": [
      "avg real cc, politifact, trump giant component: 0.0029372017544856506\n",
      "avg fake cc, politifact, trump giant component: 0.017309017737130384\n",
      "avg real apl, politifact, trump giant component: 0.8803797235646208\n",
      "avg fake apl, politifact, trump giant component: 1.437308987353334\n",
      "\n",
      "avg real cc, politifact, other giant component: 0.0\n",
      "avg fake cc, politifact, other giant component: 0.01666980273752991\n",
      "avg real apl, politifact, other giant component: 0.5566736579558982\n",
      "avg fake apl, politifact, other giant component: 1.8447322372629216\n"
     ]
    }
   ],
   "source": [
    "print('avg real cc, politifact, trump giant component: ' + str(pf_trump_real_cc))\n",
    "print('avg fake cc, politifact, trump giant component: ' + str(pf_trump_fake_cc))\n",
    "print('avg real apl, politifact, trump giant component: ' + str(pf_trump_real_apl))\n",
    "print('avg fake apl, politifact, trump giant component: ' + str(pf_trump_fake_apl))\n",
    "print()\n",
    "print('avg real cc, politifact, other giant component: ' + str(pf_other_real_cc))\n",
    "print('avg fake cc, politifact, other giant component: ' + str(pf_other_fake_cc))\n",
    "print('avg real apl, politifact, other giant component: ' + str(pf_other_real_apl))\n",
    "print('avg fake apl, politifact, other giant component: ' + str(pf_other_fake_apl))"
   ]
  },
  {
   "cell_type": "code",
   "execution_count": 78,
   "metadata": {
    "scrolled": true
   },
   "outputs": [
    {
     "name": "stdout",
     "output_type": "stream",
     "text": [
      "TRUMP: \n",
      "range real cc, buzzfeed, giant component: [0.02426923524558455, 0.25902777777777775]\n",
      "range fake cc, buzzfeed, giant component: [0.02464387464387464, 0.5833333333333333]\n",
      "range real apl, buzzfeed, giant component: [1.0, 4.485115957078574]\n",
      "range fake apl, buzzfeed, giant component: [1.0, 3.975996192030464]\n",
      "\n",
      "range real cc, politifact, giant component: [0.020833333333333332, 0.0879928315412186]\n",
      "range fake cc, politifact, giant component: [0.030741189121522943, 0.35000000000000003]\n",
      "range real apl, politifact, giant component: [1.0, 3.7400404473575204]\n",
      "range fake apl, politifact, giant component: [1.0, 6.058395368072787]\n",
      "\n",
      "OTHER:\n",
      "range real cc, buzzfeed, giant component: [0.033106430606430606, 0.1904761904761905]\n",
      "range fake cc, buzzfeed, giant component: [0.02, 1.0]\n",
      "range real apl, buzzfeed, giant component: [1.0, 5.011383161512027]\n",
      "range fake apl, buzzfeed, giant component: [1.0, 4.5096949891067535]\n",
      "\n",
      "range real cc, politifact, giant component: [0.0, 0.0]\n",
      "range fake cc, politifact, giant component: [0.028194444444444446, 0.18383838383838383]\n",
      "range real apl, politifact, giant component: [1.0, 7.142372881355932]\n",
      "range fake apl, politifact, giant component: [1.0, 6.158641975308642]\n"
     ]
    }
   ],
   "source": [
    "bf_real_ccs, bf_fake_ccs, bf_real_apls, bf_fake_apls = calculate_ccs_and_apl_ranges(buzzfeed_news_spread, buzzfeed_user_graph, buzzfeed_trump_real, buzzfeed_trump_fake)\n",
    "pf_real_ccs, pf_fake_ccs, pf_real_apls, pf_fake_apls = calculate_ccs_and_apl_ranges(politifact_news_spread, politifact_user_graph, politifact_trump_real, politifact_trump_fake)\n",
    "print(\"TRUMP: \")\n",
    "print('range real cc, buzzfeed, giant component: ' + '[' + str(min(bf_real_ccs, key=min_nonzero)) + ', ' + str(max(bf_real_ccs)) + ']')\n",
    "print('range fake cc, buzzfeed, giant component: ' + '[' + str(min(bf_fake_ccs, key=min_nonzero)) + ', ' + str(max(bf_fake_ccs)) + ']')\n",
    "print('range real apl, buzzfeed, giant component: ' + '[' + str(min(bf_real_apls, key=min_nonzero)) + ', ' + str(max(bf_real_apls)) + ']')\n",
    "print('range fake apl, buzzfeed, giant component: ' + '[' + str(min(bf_fake_apls, key=min_nonzero)) + ', ' + str(max(bf_fake_apls)) + ']')\n",
    "print()\n",
    "print('range real cc, politifact, giant component: ' + '[' + str(min(pf_real_ccs, key=min_nonzero)) + ', ' + str(max(pf_real_ccs)) + ']')\n",
    "print('range fake cc, politifact, giant component: ' + '[' + str(min(pf_fake_ccs, key=min_nonzero)) + ', ' + str(max(pf_fake_ccs)) + ']')\n",
    "print('range real apl, politifact, giant component: ' + '[' + str(min(pf_real_apls, key=min_nonzero)) + ', ' + str(max(pf_real_apls)) + ']')\n",
    "print('range fake apl, politifact, giant component: ' + '[' + str(min(pf_fake_apls, key=min_nonzero)) + ', ' + str(max(pf_fake_apls)) + ']')\n",
    "print()\n",
    "\n",
    "bf_real_ccs, bf_fake_ccs, bf_real_apls, bf_fake_apls = calculate_ccs_and_apl_ranges(buzzfeed_news_spread, buzzfeed_user_graph, buzzfeed_other_real, buzzfeed_other_fake)\n",
    "pf_real_ccs, pf_fake_ccs, pf_real_apls, pf_fake_apls = calculate_ccs_and_apl_ranges(politifact_news_spread, politifact_user_graph, politifact_other_real, politifact_other_fake)\n",
    "print(\"OTHER:\")\n",
    "print('range real cc, buzzfeed, giant component: ' + '[' + str(min(bf_real_ccs, key=min_nonzero)) + ', ' + str(max(bf_real_ccs)) + ']')\n",
    "print('range fake cc, buzzfeed, giant component: ' + '[' + str(min(bf_fake_ccs, key=min_nonzero)) + ', ' + str(max(bf_fake_ccs)) + ']')\n",
    "print('range real apl, buzzfeed, giant component: ' + '[' + str(min(bf_real_apls, key=min_nonzero)) + ', ' + str(max(bf_real_apls)) + ']')\n",
    "print('range fake apl, buzzfeed, giant component: ' + '[' + str(min(bf_fake_apls, key=min_nonzero)) + ', ' + str(max(bf_fake_apls)) + ']')\n",
    "print()\n",
    "print('range real cc, politifact, giant component: ' + '[' + str(min(pf_real_ccs, key=min_nonzero)) + ', ' + str(max(pf_real_ccs)) + ']')\n",
    "print('range fake cc, politifact, giant component: ' + '[' + str(min(pf_fake_ccs, key=min_nonzero)) + ', ' + str(max(pf_fake_ccs)) + ']')\n",
    "print('range real apl, politifact, giant component: ' + '[' + str(min(pf_real_apls, key=min_nonzero)) + ', ' + str(max(pf_real_apls)) + ']')\n",
    "print('range fake apl, politifact, giant component: ' + '[' + str(min(pf_fake_apls, key=min_nonzero)) + ', ' + str(max(pf_fake_apls)) + ']')\n"
   ]
  },
  {
   "cell_type": "code",
   "execution_count": 101,
   "metadata": {
    "scrolled": true
   },
   "outputs": [
    {
     "name": "stdout",
     "output_type": "stream",
     "text": [
      "avg real cc, buzzfeed, trump giant component: 0.015643075875416544\n",
      "avg fake cc, buzzfeed, trump giant component: 0.017391715971398516\n",
      "avg real apl, buzzfeed, trump giant component: 1.4786305447008048\n",
      "avg fake apl, buzzfeed, trump giant component: 1.6507474457787443\n",
      "\n",
      "avg real cc, buzzfeed, other giant component: 0.023877106315409926\n",
      "avg fake cc, buzzfeed, other giant component: 0.046874134398647876\n",
      "avg real apl, buzzfeed, other giant component: 1.6341803113682085\n",
      "avg fake apl, buzzfeed, other giant component: 1.4440187912063498\n",
      "avg real cc, politifact, trump giant component: 0.002518845375988233\n",
      "avg fake cc, politifact, trump giant component: 0.005960708421299554\n",
      "avg real apl, politifact, trump giant component: 1.0816699851916287\n",
      "avg fake apl, politifact, trump giant component: 1.2580904341602561\n",
      "\n",
      "avg real cc, politifact, other giant component: 0.0014958512159081148\n",
      "avg fake cc, politifact, other giant component: 0.02025564780096113\n",
      "avg real apl, politifact, other giant component: 0.6112445585260603\n",
      "avg fake apl, politifact, other giant component: 1.8151352561881826\n",
      "TRUMP: \n",
      "range real cc, buzzfeed, giant component: [0.02426923524558455, 0.14384249923917153]\n",
      "range fake cc, buzzfeed, giant component: [0.031239522424329678, 0.160069353261054]\n",
      "range real apl, buzzfeed, giant component: [1.0, 4.485115957078574]\n",
      "range fake apl, buzzfeed, giant component: [1.0, 3.390222222222222]\n",
      "\n",
      "range real cc, politifact, giant component: [0.020833333333333332, 0.05153061224489795]\n",
      "range fake cc, politifact, giant component: [0.05387301587301587, 0.057471264367816084]\n",
      "range real apl, politifact, giant component: [1.0, 3.438423645320197]\n",
      "range fake apl, politifact, giant component: [1.0, 4.503623188405797]\n",
      "\n",
      "OTHER:\n",
      "range real cc, buzzfeed, giant component: [0.033106430606430606, 0.25902777777777775]\n",
      "range fake cc, buzzfeed, giant component: [0.02, 1.0]\n",
      "range real apl, buzzfeed, giant component: [1.0, 5.011383161512027]\n",
      "range fake apl, buzzfeed, giant component: [1.0, 4.5096949891067535]\n",
      "\n",
      "range real cc, politifact, giant component: [0.03616281937915493, 0.0879928315412186]\n",
      "range fake cc, politifact, giant component: [0.028194444444444446, 0.35000000000000003]\n",
      "range real apl, politifact, giant component: [1.0, 7.142372881355932]\n",
      "range fake apl, politifact, giant component: [1.0, 6.158641975308642]\n"
     ]
    }
   ],
   "source": [
    "politifact_trump_real = []\n",
    "politifact_other_real = []\n",
    "for news in politifact_real:\n",
    "    with open('data/politifact/realnewscontent/PolitiFact_Real_' + str(news) + '-Webpage.json', 'r') as json_file:\n",
    "        data = json.load(json_file)\n",
    "    body = data[\"title\"]\n",
    "    if is_trump(body):\n",
    "        politifact_trump_real.append(news)\n",
    "    else:\n",
    "        politifact_other_real.append(news)\n",
    "\n",
    "politifact_trump_fake = []\n",
    "politifact_other_fake = []\n",
    "for news in politifact_fake:\n",
    "    news_id = news - 120\n",
    "    with open('Data/PolitiFact/FakeNewsContent/PolitiFact_Fake_' + str(news_id) + '-Webpage.json', 'r') as json_file:\n",
    "        data = json.load(json_file)\n",
    "    body = data[\"title\"]\n",
    "    if is_trump(body):\n",
    "        politifact_trump_fake.append(news)\n",
    "    else:\n",
    "        politifact_other_fake.append(news)\n",
    "    \n",
    "\n",
    "buzzfeed_trump_real = []\n",
    "buzzfeed_other_real = []\n",
    "for news in buzzfeed_real:\n",
    "    with open('data/buzzfeed/realnewscontent/Buzzfeed_Real_' + str(news) + '-Webpage.json', 'r') as json_file:\n",
    "        data = json.load(json_file)\n",
    "    body = data[\"title\"]\n",
    "    if is_trump(body):\n",
    "        buzzfeed_trump_real.append(news)\n",
    "    else:\n",
    "        buzzfeed_other_real.append(news)\n",
    "\n",
    "buzzfeed_trump_fake = []\n",
    "buzzfeed_other_fake = []\n",
    "for news in buzzfeed_fake:\n",
    "    news_id = news - 91\n",
    "    with open('Data/buzzfeed/FakeNewsContent/buzzfeed_Fake_' + str(news_id) + '-Webpage.json', 'r') as json_file:\n",
    "        data = json.load(json_file)\n",
    "    body = data[\"title\"]\n",
    "    if is_trump(body):\n",
    "        buzzfeed_trump_fake.append(news)\n",
    "    else:\n",
    "        buzzfeed_other_fake.append(news)\n",
    "\n",
    "bf_trump_real_cc, bf_trump_fake_cc, bf_trump_real_apl, bf_trump_fake_apl = calculate_ccs_and_apls(buzzfeed_news_spread, buzzfeed_user_graph, buzzfeed_trump_real, buzzfeed_trump_fake)\n",
    "bf_other_real_cc, bf_other_fake_cc, bf_other_real_apl, bf_other_fake_apl = calculate_ccs_and_apls(buzzfeed_news_spread, buzzfeed_user_graph, buzzfeed_other_real, buzzfeed_other_fake)\n",
    "\n",
    "print('avg real cc, buzzfeed, trump giant component: ' + str(bf_trump_real_cc))\n",
    "print('avg fake cc, buzzfeed, trump giant component: ' + str(bf_trump_fake_cc))\n",
    "print('avg real apl, buzzfeed, trump giant component: ' + str(bf_trump_real_apl))\n",
    "print('avg fake apl, buzzfeed, trump giant component: ' + str(bf_trump_fake_apl))\n",
    "print()\n",
    "print('avg real cc, buzzfeed, other giant component: ' + str(bf_other_real_cc))\n",
    "print('avg fake cc, buzzfeed, other giant component: ' + str(bf_other_fake_cc))\n",
    "print('avg real apl, buzzfeed, other giant component: ' + str(bf_other_real_apl))\n",
    "print('avg fake apl, buzzfeed, other giant component: ' + str(bf_other_fake_apl))\n",
    "\n",
    "politifact_trump_real = []\n",
    "politifact_other_real = []\n",
    "for news in politifact_real:\n",
    "    with open('data/politifact/realnewscontent/politifact_Real_' + str(news) + '-Webpage.json', 'r') as json_file:\n",
    "        data = json.load(json_file)\n",
    "    body = data[\"title\"]\n",
    "    if is_trump(body):\n",
    "        politifact_trump_real.append(news)\n",
    "    else:\n",
    "        politifact_other_real.append(news)\n",
    "\n",
    "politifact_trump_fake = []\n",
    "politifact_other_fake = []\n",
    "for news in politifact_fake:\n",
    "    news_id = news - 120\n",
    "    with open('Data/politifact/FakeNewsContent/politifact_Fake_' + str(news_id) + '-Webpage.json', 'r') as json_file:\n",
    "        data = json.load(json_file)\n",
    "    body = data[\"title\"]\n",
    "    if is_trump(body):\n",
    "        politifact_trump_fake.append(news)\n",
    "    else:\n",
    "        politifact_other_fake.append(news)\n",
    "\n",
    "pf_trump_real_cc, pf_trump_fake_cc, pf_trump_real_apl, pf_trump_fake_apl = calculate_ccs_and_apls(politifact_news_spread, politifact_user_graph, politifact_trump_real, politifact_trump_fake)\n",
    "pf_other_real_cc, pf_other_fake_cc, pf_other_real_apl, pf_other_fake_apl = calculate_ccs_and_apls(politifact_news_spread, politifact_user_graph, politifact_other_real, politifact_other_fake)\n",
    "\n",
    "print('avg real cc, politifact, trump giant component: ' + str(pf_trump_real_cc))\n",
    "print('avg fake cc, politifact, trump giant component: ' + str(pf_trump_fake_cc))\n",
    "print('avg real apl, politifact, trump giant component: ' + str(pf_trump_real_apl))\n",
    "print('avg fake apl, politifact, trump giant component: ' + str(pf_trump_fake_apl))\n",
    "print()\n",
    "print('avg real cc, politifact, other giant component: ' + str(pf_other_real_cc))\n",
    "print('avg fake cc, politifact, other giant component: ' + str(pf_other_fake_cc))\n",
    "print('avg real apl, politifact, other giant component: ' + str(pf_other_real_apl))\n",
    "print('avg fake apl, politifact, other giant component: ' + str(pf_other_fake_apl))\n",
    "\n",
    "bf_real_ccs, bf_fake_ccs, bf_real_apls, bf_fake_apls = calculate_ccs_and_apl_ranges(buzzfeed_news_spread, buzzfeed_user_graph, buzzfeed_trump_real, buzzfeed_trump_fake)\n",
    "pf_real_ccs, pf_fake_ccs, pf_real_apls, pf_fake_apls = calculate_ccs_and_apl_ranges(politifact_news_spread, politifact_user_graph, politifact_trump_real, politifact_trump_fake)\n",
    "print(\"TRUMP: \")\n",
    "print('range real cc, buzzfeed, giant component: ' + '[' + str(min(bf_real_ccs, key=min_nonzero)) + ', ' + str(max(bf_real_ccs)) + ']')\n",
    "print('range fake cc, buzzfeed, giant component: ' + '[' + str(min(bf_fake_ccs, key=min_nonzero)) + ', ' + str(max(bf_fake_ccs)) + ']')\n",
    "print('range real apl, buzzfeed, giant component: ' + '[' + str(min(bf_real_apls, key=min_nonzero)) + ', ' + str(max(bf_real_apls)) + ']')\n",
    "print('range fake apl, buzzfeed, giant component: ' + '[' + str(min(bf_fake_apls, key=min_nonzero)) + ', ' + str(max(bf_fake_apls)) + ']')\n",
    "print()\n",
    "print('range real cc, politifact, giant component: ' + '[' + str(min(pf_real_ccs, key=min_nonzero)) + ', ' + str(max(pf_real_ccs)) + ']')\n",
    "print('range fake cc, politifact, giant component: ' + '[' + str(min(pf_fake_ccs, key=min_nonzero)) + ', ' + str(max(pf_fake_ccs)) + ']')\n",
    "print('range real apl, politifact, giant component: ' + '[' + str(min(pf_real_apls, key=min_nonzero)) + ', ' + str(max(pf_real_apls)) + ']')\n",
    "print('range fake apl, politifact, giant component: ' + '[' + str(min(pf_fake_apls, key=min_nonzero)) + ', ' + str(max(pf_fake_apls)) + ']')\n",
    "print()\n",
    "\n",
    "bf_real_ccs, bf_fake_ccs, bf_real_apls, bf_fake_apls = calculate_ccs_and_apl_ranges(buzzfeed_news_spread, buzzfeed_user_graph, buzzfeed_other_real, buzzfeed_other_fake)\n",
    "pf_real_ccs, pf_fake_ccs, pf_real_apls, pf_fake_apls = calculate_ccs_and_apl_ranges(politifact_news_spread, politifact_user_graph, politifact_other_real, politifact_other_fake)\n",
    "print(\"OTHER:\")\n",
    "print('range real cc, buzzfeed, giant component: ' + '[' + str(min(bf_real_ccs, key=min_nonzero)) + ', ' + str(max(bf_real_ccs)) + ']')\n",
    "print('range fake cc, buzzfeed, giant component: ' + '[' + str(min(bf_fake_ccs, key=min_nonzero)) + ', ' + str(max(bf_fake_ccs)) + ']')\n",
    "print('range real apl, buzzfeed, giant component: ' + '[' + str(min(bf_real_apls, key=min_nonzero)) + ', ' + str(max(bf_real_apls)) + ']')\n",
    "print('range fake apl, buzzfeed, giant component: ' + '[' + str(min(bf_fake_apls, key=min_nonzero)) + ', ' + str(max(bf_fake_apls)) + ']')\n",
    "print()\n",
    "print('range real cc, politifact, giant component: ' + '[' + str(min(pf_real_ccs, key=min_nonzero)) + ', ' + str(max(pf_real_ccs)) + ']')\n",
    "print('range fake cc, politifact, giant component: ' + '[' + str(min(pf_fake_ccs, key=min_nonzero)) + ', ' + str(max(pf_fake_ccs)) + ']')\n",
    "print('range real apl, politifact, giant component: ' + '[' + str(min(pf_real_apls, key=min_nonzero)) + ', ' + str(max(pf_real_apls)) + ']')\n",
    "print('range fake apl, politifact, giant component: ' + '[' + str(min(pf_fake_apls, key=min_nonzero)) + ', ' + str(max(pf_fake_apls)) + ']')\n"
   ]
  },
  {
   "cell_type": "code",
   "execution_count": 90,
   "metadata": {},
   "outputs": [],
   "source": [
    "def get_max_degree(source, graph, real, fake):\n",
    "    real_degrees = []\n",
    "    fake_degrees = []\n",
    "    for news in real:\n",
    "        users = source.loc[source['news'] == news]['user'].values\n",
    "        subg = graph.subgraph(list(users))\n",
    "        subg = max(nx.connected_component_subgraphs(subg), key=len)\n",
    "        degrees = subg.degree()\n",
    "        real_degrees.append(max(dict(degrees).values()))\n",
    "    for news in fake:\n",
    "        users = source.loc[source['news'] == news]['user'].values\n",
    "        subg = graph.subgraph(list(users))\n",
    "        subg = max(nx.connected_component_subgraphs(subg), key=len)\n",
    "        degrees = subg.degree()\n",
    "        fake_degrees.append(max(dict(degrees).values()))\n",
    "\n",
    "    return (np.average(real_degrees), np.average(fake_degrees))"
   ]
  },
  {
   "cell_type": "code",
   "execution_count": 91,
   "metadata": {},
   "outputs": [],
   "source": [
    "bf_real_degrees, bf_fake_degrees = get_max_degree(buzzfeed_news_spread, buzzfeed_user_graph, buzzfeed_real, buzzfeed_fake)\n",
    "pf_real_degrees, pf_fake_degrees = get_max_degree(politifact_news_spread, politifact_user_graph, politifact_real, politifact_fake)"
   ]
  },
  {
   "cell_type": "code",
   "execution_count": 92,
   "metadata": {},
   "outputs": [
    {
     "name": "stdout",
     "output_type": "stream",
     "text": [
      "avg. max degree, real news, buzzfeed: 13.934065934065934\n",
      "avg. max degree, fake news, buzzfeed: 18.53846153846154\n",
      "avg. max degree, real news, politifact: 2.775\n",
      "avg. max degree, fake news, politifact: 15.266666666666667\n"
     ]
    }
   ],
   "source": [
    "print(\"avg. max degree, real news, buzzfeed: \" + str(bf_real_degrees))\n",
    "print(\"avg. max degree, fake news, buzzfeed: \" + str(bf_fake_degrees))\n",
    "print(\"avg. max degree, real news, politifact: \" + str(pf_real_degrees))\n",
    "print(\"avg. max degree, fake news, politifact: \" + str(pf_fake_degrees))"
   ]
  },
  {
   "cell_type": "code",
   "execution_count": 93,
   "metadata": {},
   "outputs": [],
   "source": [
    "def get_max_degree_list(source, graph, real, fake):\n",
    "    real_degrees = []\n",
    "    fake_degrees = []\n",
    "    for news in real:\n",
    "        users = source.loc[source['news'] == news]['user'].values\n",
    "        subg = graph.subgraph(list(users))\n",
    "        subg = max(nx.connected_component_subgraphs(subg), key=len)\n",
    "        degrees = subg.degree()\n",
    "        real_degrees.append(max(dict(degrees).values()))\n",
    "    for news in fake:\n",
    "        users = source.loc[source['news'] == news]['user'].values\n",
    "        subg = graph.subgraph(list(users))\n",
    "        subg = max(nx.connected_component_subgraphs(subg), key=len)\n",
    "        degrees = subg.degree()\n",
    "        fake_degrees.append(max(dict(degrees).values()))\n",
    "\n",
    "    return (real_degrees, fake_degrees)"
   ]
  },
  {
   "cell_type": "code",
   "execution_count": 94,
   "metadata": {},
   "outputs": [],
   "source": [
    "bf_real_degrees, bf_fake_degrees = get_max_degree_list(buzzfeed_news_spread, buzzfeed_user_graph, buzzfeed_real, buzzfeed_fake)\n",
    "pf_real_degrees, pf_fake_degrees = get_max_degree_list(politifact_news_spread, politifact_user_graph, politifact_real, politifact_fake)"
   ]
  },
  {
   "cell_type": "code",
   "execution_count": 120,
   "metadata": {},
   "outputs": [
    {
     "data": {
      "text/plain": [
       "(array([82.,  2.,  4.,  1.,  0.,  1.,  0.,  0.,  0.,  1.]),\n",
       " array([  0. ,  30.3,  60.6,  90.9, 121.2, 151.5, 181.8, 212.1, 242.4,\n",
       "        272.7, 303. ]),\n",
       " <a list of 10 Patch objects>)"
      ]
     },
     "execution_count": 120,
     "metadata": {},
     "output_type": "execute_result"
    },
    {
     "data": {
      "image/png": "[encoded data removed]",
      "text/plain": [
       "<Figure size 432x288 with 1 Axes>"
      ]
     },
     "metadata": {},
     "output_type": "display_data"
    }
   ],
   "source": [
    "plt.hist(bf_fake_degrees)\n",
    "plt.hist(bf_real_degrees)"
   ]
  },
  {
   "cell_type": "code",
   "execution_count": 119,
   "metadata": {},
   "outputs": [
    {
     "data": {
      "text/plain": [
       "(array([111.,   5.,   3.,   0.,   0.,   0.,   0.,   0.,   0.,   1.]),\n",
       " array([ 0. ,  9.8, 19.6, 29.4, 39.2, 49. , 58.8, 68.6, 78.4, 88.2, 98. ]),\n",
       " <a list of 10 Patch objects>)"
      ]
     },
     "execution_count": 119,
     "metadata": {},
     "output_type": "execute_result"
    },
    {
     "data": {
      "image/png": "[encoded data removed]",
      "text/plain": [
       "<Figure size 432x288 with 1 Axes>"
      ]
     },
     "metadata": {},
     "output_type": "display_data"
    }
   ],
   "source": [
    "plt.hist(pf_fake_degrees)\n",
    "plt.hist(pf_real_degrees)"
   ]
  },
  {
   "cell_type": "code",
   "execution_count": 100,
   "metadata": {},
   "outputs": [
    {
     "name": "stdout",
     "output_type": "stream",
     "text": [
      "range real degree, buzzfeed: [1, 303]\n",
      "range fake degree, buzzfeed: [1, 286]\n",
      "range real degree, politifact: [1, 98]\n",
      "range fake degree, politifact: [1, 697]\n"
     ]
    }
   ],
   "source": [
    "print('range real degree, buzzfeed: ' + '[' + str(min(bf_real_degrees, key=min_nonzero)) + ', ' + str(max(bf_real_degrees)) + ']')\n",
    "print('range fake degree, buzzfeed: ' + '[' + str(min(bf_fake_degrees, key=min_nonzero)) + ', ' + str(max(bf_fake_degrees)) + ']')\n",
    "print('range real degree, politifact: ' + '[' + str(min(pf_real_degrees, key=min_nonzero)) + ', ' + str(max(pf_real_degrees)) + ']')\n",
    "print('range fake degree, politifact: ' + '[' + str(min(pf_fake_degrees, key=min_nonzero)) + ', ' + str(max(pf_fake_degrees)) + ']')"
   ]
  },
  {
   "cell_type": "code",
   "execution_count": 110,
   "metadata": {},
   "outputs": [],
   "source": [
    "def get_max_degree_headline(source, graph, real, fake, sourcename, other_size):\n",
    "    max_real_degree = 0\n",
    "    max_fake_degree = 0\n",
    "    max_real_headline = \"\"\n",
    "    max_fake_headline = \"\"\n",
    "    for news in real:\n",
    "        users = source.loc[source['news'] == news]['user'].values\n",
    "        subg = graph.subgraph(list(users))\n",
    "        subg = max(nx.connected_component_subgraphs(subg), key=len)\n",
    "        degrees = subg.degree()\n",
    "        max_deg = max(dict(degrees).values())\n",
    "        if max_deg > max_real_degree:\n",
    "            max_real_degree = max_deg\n",
    "            with open('Data/'+ sourcename +'/realNewsContent/' + sourcename + '_real_' + str(news) + '-Webpage.json', 'r') as json_file:\n",
    "                data = json.load(json_file)\n",
    "            max_real_headline = data[\"title\"]\n",
    "    for news in fake:\n",
    "        news_id = news - other_size\n",
    "        users = source.loc[source['news'] == news]['user'].values\n",
    "        subg = graph.subgraph(list(users))\n",
    "        subg = max(nx.connected_component_subgraphs(subg), key=len)\n",
    "        degrees = subg.degree()\n",
    "        max_deg = max(dict(degrees).values())\n",
    "        if max_deg > max_fake_degree:\n",
    "            max_fake_degree = max_deg\n",
    "            with open('Data/'+ sourcename +'/FakeNewsContent/' + sourcename + '_Fake_' + str(news_id) + '-Webpage.json', 'r') as json_file:\n",
    "                data = json.load(json_file)\n",
    "            max_fake_headline = data[\"title\"]\n",
    "    print(\"Real headline from \"+ sourcename +\" with max degree = \" + str(max_real_degree) + \": \" + max_real_headline)\n",
    "    print(\"Fake headline from \"+ sourcename +\" with max degree = \" + str(max_fake_degree) + \": \" + max_fake_headline)"
   ]
  },
  {
   "cell_type": "code",
   "execution_count": 111,
   "metadata": {},
   "outputs": [
    {
     "name": "stdout",
     "output_type": "stream",
     "text": [
      "Real headline from buzzfeed with max degree = 303: How to watch the first presidential debate\n",
      "Fake headline from buzzfeed with max degree = 286: Cavuto Just Exposed Lester Holt's Lies During Debate\n",
      "Real headline from politifact with max degree = 98: Road to 270: CNN's general election map\n",
      "Fake headline from politifact with max degree = 697: Australia Becomes First Country To Begin Microchipping Its Public\n"
     ]
    }
   ],
   "source": [
    "get_max_degree_headline(buzzfeed_news_spread, buzzfeed_user_graph, buzzfeed_real, buzzfeed_fake, \"buzzfeed\", 91)\n",
    "get_max_degree_headline(politifact_news_spread, politifact_user_graph, politifact_real, politifact_fake, \"politifact\", 120)"
   ]
  },
  {
   "cell_type": "code",
   "execution_count": 114,
   "metadata": {},
   "outputs": [],
   "source": [
    "politifact_trump_real = []\n",
    "politifact_other_real = []\n",
    "for news in politifact_real:\n",
    "    with open('data/politifact/realnewscontent/politifact_Real_' + str(news) + '-Webpage.json', 'r') as json_file:\n",
    "        data = json.load(json_file)\n",
    "    body = data[\"text\"]\n",
    "    if is_trump(body):\n",
    "        politifact_trump_real.append(news)\n",
    "    else:\n",
    "        politifact_other_real.append(news)\n",
    "\n",
    "politifact_trump_fake = []\n",
    "politifact_other_fake = []\n",
    "for news in politifact_fake:\n",
    "    news_id = news - 120\n",
    "    with open('Data/politifact/FakeNewsContent/politifact_Fake_' + str(news_id) + '-Webpage.json', 'r') as json_file:\n",
    "        data = json.load(json_file)\n",
    "    body = data[\"text\"]\n",
    "    if is_trump(body):\n",
    "        politifact_trump_fake.append(news)\n",
    "    else:\n",
    "        politifact_other_fake.append(news)"
   ]
  },
  {
   "cell_type": "code",
   "execution_count": 115,
   "metadata": {},
   "outputs": [
    {
     "name": "stdout",
     "output_type": "stream",
     "text": [
      "TRUMP:\n",
      "Real headline from BuzzFeed with max degree = 99: National poll: Clinton leads Trump by 6\n",
      "Fake headline from BuzzFeed with max degree = 219: Surgeon General warns: Drinking every time Trump lies during debate could result in acute alcohol poisoning\n",
      "Real headline from PolitiFact with max degree = 98: Road to 270: CNN's general election map\n",
      "Fake headline from PolitiFact with max degree = 25: Executive Order Leads to Capture of ISIS Leader Rasheed Muhammad\n",
      "\n",
      "OTHER:\n",
      "Real headline from BuzzFeed with max degree = 303: How to watch the first presidential debate\n",
      "Fake headline from BuzzFeed with max degree = 286: Cavuto Just Exposed Lester Holt's Lies During Debate\n",
      "Real headline from PolitiFact with max degree = 23: When does early voting start in every state?\n",
      "Fake headline from PolitiFact with max degree = 697: Australia Becomes First Country To Begin Microchipping Its Public\n"
     ]
    }
   ],
   "source": [
    "print(\"TRUMP:\")\n",
    "get_max_degree_headline(buzzfeed_news_spread, buzzfeed_user_graph, buzzfeed_trump_real, buzzfeed_trump_fake, \"BuzzFeed\", 91)\n",
    "get_max_degree_headline(politifact_news_spread, politifact_user_graph, politifact_trump_real, politifact_trump_fake, \"PolitiFact\", 120)\n",
    "print()\n",
    "print(\"OTHER:\")\n",
    "get_max_degree_headline(buzzfeed_news_spread, buzzfeed_user_graph, buzzfeed_other_real, buzzfeed_other_fake, \"BuzzFeed\", 91)\n",
    "get_max_degree_headline(politifact_news_spread, politifact_user_graph, politifact_other_real, politifact_other_fake, \"PolitiFact\", 120)"
   ]
  },
  {
   "cell_type": "code",
   "execution_count": 116,
   "metadata": {},
   "outputs": [],
   "source": [
    "def get_heuristic(source, graph, real, fake):\n",
    "    real_heuristic = []\n",
    "    fake_heuristic = []\n",
    "    for news in real:\n",
    "        users = source.loc[source['news'] == news]['user'].values\n",
    "        subg = graph.subgraph(list(users))\n",
    "        subg = max(nx.connected_component_subgraphs(subg), key=len)\n",
    "        degrees = subg.degree()\n",
    "        real_heuristic.append(max(dict(degrees).values())*nx.average_clustering(subg))\n",
    "    for news in fake:\n",
    "        users = source.loc[source['news'] == news]['user'].values\n",
    "        subg = graph.subgraph(list(users))\n",
    "        subg = max(nx.connected_component_subgraphs(subg), key=len)\n",
    "        degrees = subg.degree()\n",
    "        fake_heuristic.append(max(dict(degrees).values())*nx.average_clustering(subg))\n",
    "\n",
    "    return (real_heuristic, fake_heuristic)"
   ]
  },
  {
   "cell_type": "code",
   "execution_count": 117,
   "metadata": {},
   "outputs": [],
   "source": [
    "bf_real_heuristics, bf_fake_heuristics = get_heuristic(buzzfeed_news_spread, buzzfeed_user_graph, buzzfeed_real, buzzfeed_fake)\n",
    "pf_real_heuristics, pf_fake_heuristics = get_heuristic(politifact_news_spread, politifact_user_graph, politifact_real, politifact_fake)"
   ]
  },
  {
   "cell_type": "code",
   "execution_count": 118,
   "metadata": {},
   "outputs": [
    {
     "name": "stdout",
     "output_type": "stream",
     "text": [
      "Average heuristic value, BuzzFeed, real: 1.1640816157474108\n",
      "Average heuristic value, BuzzFeed, fake: 2.1756439188214975\n",
      "Average heuristic value, PolitiFact, real: 0.05569278434019569\n",
      "Average heuristic value, PolitiFact, fake: 0.8400845923942496\n"
     ]
    }
   ],
   "source": [
    "print(\"Average heuristic value, BuzzFeed, real: \" + str(np.average(bf_real_heuristics)))\n",
    "print(\"Average heuristic value, BuzzFeed, fake: \" + str(np.average(bf_fake_heuristics)))\n",
    "print(\"Average heuristic value, PolitiFact, real: \" + str(np.average(pf_real_heuristics)))\n",
    "print(\"Average heuristic value, PolitiFact, fake: \" + str(np.average(pf_fake_heuristics)))"
   ]
  },
  {
   "cell_type": "code",
   "execution_count": 122,
   "metadata": {},
   "outputs": [
    {
     "name": "stdout",
     "output_type": "stream",
     "text": [
      "Average heuristic value, BuzzFeed, real: [0.4368462344205219, 32.54653365426408]\n",
      "Average heuristic value, BuzzFeed, fake: [0.14, 61.56371603134698]\n",
      "Average heuristic value, PolitiFact, real: [0.47916666666666663, 3.543956299157183]\n",
      "Average heuristic value, PolitiFact, fake: [0.25375000000000003, 49.610360378112716]\n"
     ]
    }
   ],
   "source": [
    "print(\"Average heuristic value, BuzzFeed, real: [\" + str(min(bf_real_heuristics, key=min_nonzero)) + \", \" + str(max(bf_real_heuristics)) +']')\n",
    "print(\"Average heuristic value, BuzzFeed, fake: [\" + str(min(bf_fake_heuristics, key=min_nonzero)) + \", \" + str(max(bf_fake_heuristics)) +']')\n",
    "print(\"Average heuristic value, PolitiFact, real: [\" + str(min(pf_real_heuristics, key=min_nonzero)) + \", \" + str(max(pf_real_heuristics)) +']')\n",
    "print(\"Average heuristic value, PolitiFact, fake: [\" + str(min(pf_fake_heuristics, key=min_nonzero)) + \", \" + str(max(pf_fake_heuristics)) +']')"
   ]
  },
  {
   "cell_type": "code",
   "execution_count": 123,
   "metadata": {},
   "outputs": [
    {
     "data": {
      "text/plain": [
       "(array([86.,  1.,  1.,  0.,  1.,  0.,  1.,  0.,  0.,  1.]),\n",
       " array([ 0.        ,  3.25465337,  6.50930673,  9.7639601 , 13.01861346,\n",
       "        16.27326683, 19.52792019, 22.78257356, 26.03722692, 29.29188029,\n",
       "        32.54653365]),\n",
       " <a list of 10 Patch objects>)"
      ]
     },
     "execution_count": 123,
     "metadata": {},
     "output_type": "execute_result"
    },
    {
     "data": {
      "image/png": "[encoded data removed]",
      "text/plain": [
       "<Figure size 432x288 with 1 Axes>"
      ]
     },
     "metadata": {},
     "output_type": "display_data"
    }
   ],
   "source": [
    "plt.hist(bf_fake_heuristics)\n",
    "plt.hist(bf_real_heuristics)"
   ]
  },
  {
   "cell_type": "code",
   "execution_count": 124,
   "metadata": {},
   "outputs": [
    {
     "data": {
      "text/plain": [
       "(array([115.,   2.,   1.,   1.,   0.,   0.,   0.,   0.,   0.,   1.]),\n",
       " array([0.        , 0.35439563, 0.70879126, 1.06318689, 1.41758252,\n",
       "        1.77197815, 2.12637378, 2.48076941, 2.83516504, 3.18956067,\n",
       "        3.5439563 ]),\n",
       " <a list of 10 Patch objects>)"
      ]
     },
     "execution_count": 124,
     "metadata": {},
     "output_type": "execute_result"
    },
    {
     "data": {
      "image/png": "[encoded data removed]",
      "text/plain": [
       "<Figure size 432x288 with 1 Axes>"
      ]
     },
     "metadata": {},
     "output_type": "display_data"
    }
   ],
   "source": [
    "plt.hist(pf_fake_heuristics)\n",
    "plt.hist(pf_real_heuristics)"
   ]
  },
  {
   "cell_type": "code",
   "execution_count": 125,
   "metadata": {},
   "outputs": [],
   "source": [
    "bf_real_heuristics, bf_fake_heuristics = get_heuristic(buzzfeed_news_spread, buzzfeed_user_graph, buzzfeed_trump_real, buzzfeed_trump_fake)\n",
    "pf_real_heuristics, pf_fake_heuristics = get_heuristic(politifact_news_spread, politifact_user_graph, politifact_trump_real, politifact_trump_fake)"
   ]
  },
  {
   "cell_type": "code",
   "execution_count": 126,
   "metadata": {},
   "outputs": [
    {
     "name": "stdout",
     "output_type": "stream",
     "text": [
      "Average heuristic value, BuzzFeed, real: 0.981796608275511\n",
      "Average heuristic value, BuzzFeed, fake: 3.3259931784511805\n",
      "Average heuristic value, PolitiFact, real: 0.0903126232543714\n",
      "Average heuristic value, PolitiFact, fake: 0.174709612398172\n"
     ]
    }
   ],
   "source": [
    "print(\"Average heuristic value, BuzzFeed, real: \" + str(np.average(bf_real_heuristics)))\n",
    "print(\"Average heuristic value, BuzzFeed, fake: \" + str(np.average(bf_fake_heuristics)))\n",
    "print(\"Average heuristic value, PolitiFact, real: \" + str(np.average(pf_real_heuristics)))\n",
    "print(\"Average heuristic value, PolitiFact, fake: \" + str(np.average(pf_fake_heuristics)))"
   ]
  },
  {
   "cell_type": "code",
   "execution_count": 127,
   "metadata": {},
   "outputs": [
    {
     "name": "stdout",
     "output_type": "stream",
     "text": [
      "Average heuristic value, BuzzFeed, real: [0.4368462344205219, 14.240407424677981]\n",
      "Average heuristic value, BuzzFeed, fake: [1.5307365987921542, 35.05518836417083]\n",
      "Average heuristic value, PolitiFact, real: [0.47916666666666663, 3.543956299157183]\n",
      "Average heuristic value, PolitiFact, fake: [0.3888888888888889, 1.7500000000000002]\n"
     ]
    }
   ],
   "source": [
    "print(\"Average heuristic value, BuzzFeed, real: [\" + str(min(bf_real_heuristics, key=min_nonzero)) + \", \" + str(max(bf_real_heuristics)) +']')\n",
    "print(\"Average heuristic value, BuzzFeed, fake: [\" + str(min(bf_fake_heuristics, key=min_nonzero)) + \", \" + str(max(bf_fake_heuristics)) +']')\n",
    "print(\"Average heuristic value, PolitiFact, real: [\" + str(min(pf_real_heuristics, key=min_nonzero)) + \", \" + str(max(pf_real_heuristics)) +']')\n",
    "print(\"Average heuristic value, PolitiFact, fake: [\" + str(min(pf_fake_heuristics, key=min_nonzero)) + \", \" + str(max(pf_fake_heuristics)) +']')"
   ]
  },
  {
   "cell_type": "code",
   "execution_count": 128,
   "metadata": {},
   "outputs": [],
   "source": [
    "bf_real_heuristics, bf_fake_heuristics = get_heuristic(buzzfeed_news_spread, buzzfeed_user_graph, buzzfeed_other_real, buzzfeed_other_fake)\n",
    "pf_real_heuristics, pf_fake_heuristics = get_heuristic(politifact_news_spread, politifact_user_graph, politifact_other_real, politifact_other_fake)"
   ]
  },
  {
   "cell_type": "code",
   "execution_count": 129,
   "metadata": {},
   "outputs": [
    {
     "name": "stdout",
     "output_type": "stream",
     "text": [
      "Average heuristic value, BuzzFeed, real: 1.2222014732022197\n",
      "Average heuristic value, BuzzFeed, fake: 2.0174708956224165\n",
      "Average heuristic value, PolitiFact, real: 0.0\n",
      "Average heuristic value, PolitiFact, fake: 1.2684767028026829\n"
     ]
    }
   ],
   "source": [
    "print(\"Average heuristic value, BuzzFeed, real: \" + str(np.average(bf_real_heuristics)))\n",
    "print(\"Average heuristic value, BuzzFeed, fake: \" + str(np.average(bf_fake_heuristics)))\n",
    "print(\"Average heuristic value, PolitiFact, real: \" + str(np.average(pf_real_heuristics)))\n",
    "print(\"Average heuristic value, PolitiFact, fake: \" + str(np.average(pf_fake_heuristics)))"
   ]
  },
  {
   "cell_type": "code",
   "execution_count": 130,
   "metadata": {},
   "outputs": [
    {
     "name": "stdout",
     "output_type": "stream",
     "text": [
      "Average heuristic value, BuzzFeed, real: [0.4965964590964591, 32.54653365426408]\n",
      "Average heuristic value, BuzzFeed, fake: [0.14, 61.56371603134698]\n",
      "Average heuristic value, PolitiFact, real: [0.0, 0.0]\n",
      "Average heuristic value, PolitiFact, fake: [0.25375000000000003, 49.610360378112716]\n"
     ]
    }
   ],
   "source": [
    "\n",
    "print(\"Average heuristic value, BuzzFeed, real: [\" + str(min(bf_real_heuristics, key=min_nonzero)) + \", \" + str(max(bf_real_heuristics)) +']')\n",
    "print(\"Average heuristic value, BuzzFeed, fake: [\" + str(min(bf_fake_heuristics, key=min_nonzero)) + \", \" + str(max(bf_fake_heuristics)) +']')\n",
    "print(\"Average heuristic value, PolitiFact, real: [\" + str(min(pf_real_heuristics, key=min_nonzero)) + \", \" + str(max(pf_real_heuristics)) +']')\n",
    "print(\"Average heuristic value, PolitiFact, fake: [\" + str(min(pf_fake_heuristics, key=min_nonzero)) + \", \" + str(max(pf_fake_heuristics)) +']')"
   ]
  },
  {
   "cell_type": "code",
   "execution_count": 135,
   "metadata": {},
   "outputs": [],
   "source": [
    "def get_max_heuristic_headline(source, graph, real, fake, sourcename, other_size):\n",
    "    max_real_degree = 0\n",
    "    max_fake_degree = 0\n",
    "    max_real_headline = \"\"\n",
    "    max_fake_headline = \"\"\n",
    "    for news in real:\n",
    "        users = source.loc[source['news'] == news]['user'].values\n",
    "        subg = graph.subgraph(list(users))\n",
    "        subg = max(nx.connected_component_subgraphs(subg), key=len)\n",
    "        degrees = subg.degree()\n",
    "        max_deg = max(dict(degrees).values())*nx.average_clustering(subg)\n",
    "        if max_deg > max_real_degree:\n",
    "            max_real_degree = max_deg\n",
    "            with open('Data/'+ sourcename +'/realNewsContent/' + sourcename + '_real_' + str(news) + '-Webpage.json', 'r') as json_file:\n",
    "                data = json.load(json_file)\n",
    "            max_real_headline = data[\"title\"]\n",
    "    for news in fake:\n",
    "        news_id = news - other_size\n",
    "        users = source.loc[source['news'] == news]['user'].values\n",
    "        subg = graph.subgraph(list(users))\n",
    "        subg = max(nx.connected_component_subgraphs(subg), key=len)\n",
    "        degrees = subg.degree()\n",
    "        max_deg = max(dict(degrees).values())*nx.average_clustering(subg)\n",
    "        if max_deg > max_fake_degree:\n",
    "            max_fake_degree = max_deg\n",
    "            with open('Data/'+ sourcename +'/FakeNewsContent/' + sourcename + '_Fake_' + str(news_id) + '-Webpage.json', 'r') as json_file:\n",
    "                data = json.load(json_file)\n",
    "            max_fake_headline = data[\"title\"]\n",
    "    print(\"Real headline from \"+ sourcename +\" with max heuristic = \" + str(max_real_degree) + \": \" + max_real_headline)\n",
    "    print(\"Fake headline from \"+ sourcename +\" with max heuristic = \" + str(max_fake_degree) + \": \" + max_fake_headline)"
   ]
  },
  {
   "cell_type": "code",
   "execution_count": 136,
   "metadata": {},
   "outputs": [
    {
     "name": "stdout",
     "output_type": "stream",
     "text": [
      "TRUMP:\n",
      "Real headline from BuzzFeed with max heuristic = 14.240407424677981: National poll: Clinton leads Trump by 6\n",
      "Fake headline from BuzzFeed with max heuristic = 35.05518836417083: Surgeon General warns: Drinking every time Trump lies during debate could result in acute alcohol poisoning\n",
      "Real headline from PolitiFact with max heuristic = 3.543956299157183: Road to 270: CNN's general election map\n",
      "Fake headline from PolitiFact with max heuristic = 1.7500000000000002: Democrat Maxine Waters Has Shown Up To Only 10% Of Congressional Meetings For 35 YEARS\n",
      "\n",
      "OTHER:\n",
      "Real headline from BuzzFeed with max heuristic = 32.54653365426408: How to watch the first presidential debate\n",
      "Fake headline from BuzzFeed with max heuristic = 61.56371603134698: Federal Agents Make Massive Discovery at Southern Border… ISIS Is Here ⋆ Freedom Daily\n",
      "Real headline from PolitiFact with max heuristic = 0: \n",
      "Fake headline from PolitiFact with max heuristic = 49.610360378112716: Australia Becomes First Country To Begin Microchipping Its Public\n"
     ]
    }
   ],
   "source": [
    "print(\"TRUMP:\")\n",
    "get_max_heuristic_headline(buzzfeed_news_spread, buzzfeed_user_graph, buzzfeed_trump_real, buzzfeed_trump_fake, \"BuzzFeed\", 91)\n",
    "get_max_heuristic_headline(politifact_news_spread, politifact_user_graph, politifact_trump_real, politifact_trump_fake, \"PolitiFact\", 120)\n",
    "print()\n",
    "print(\"OTHER:\")\n",
    "get_max_heuristic_headline(buzzfeed_news_spread, buzzfeed_user_graph, buzzfeed_other_real, buzzfeed_other_fake, \"BuzzFeed\", 91)\n",
    "get_max_heuristic_headline(politifact_news_spread, politifact_user_graph, politifact_other_real, politifact_other_fake, \"PolitiFact\", 120)"
   ]
  },
  {
   "cell_type": "code",
   "execution_count": null,
   "metadata": {},
   "outputs": [],
   "source": []
  }
 ],
 "metadata": {
  "kernelspec": {
   "display_name": "Python 3",
   "language": "python",
   "name": "python3"
  },
  "language_info": {
   "codemirror_mode": {
    "name": "ipython",
    "version": 3
   },
   "file_extension": ".py",
   "mimetype": "text/x-python",
   "name": "python",
   "nbconvert_exporter": "python",
   "pygments_lexer": "ipython3",
   "version": "3.6.5"
  }
 },
 "nbformat": 4,
 "nbformat_minor": 2
}
